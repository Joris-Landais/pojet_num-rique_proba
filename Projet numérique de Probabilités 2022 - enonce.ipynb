{
 "cells": [
  {
   "cell_type": "markdown",
   "metadata": {},
   "source": [
    "# Projet numérique de probabilités \n",
    "\n",
    "## Préambule\n",
    "\n",
    "Dans ce projet, on va chercher à développer un algorithme permettant de générer des textures aléatoires reprenant certaines caractéristiques du mouvement brownien.\n",
    "Dans un premier temps, on va s'intéresser à construire le mouvement brownien en une dimension comme limite d'une marche aléatoire. On verra ensuite une construction alternative qui permettra de conserver certaines de ses propriétés puis on la généralisera à 2 dimensions.\n"
   ]
  },
  {
   "cell_type": "markdown",
   "metadata": {},
   "source": [
    "# Marche aléatoire\n",
    "\n",
    "Soit $(X_i)_{i\\in \\mathbb{N}^\\ast}$ une suite de variables aléatoires indépendantes telle que :\n",
    "\n",
    "$$\\mathbb{P}(X_i=x) = \\left\\{\\begin{array}{ll}\n",
    "\\frac{1}{2} & \\text{ si } x=1\\\\\n",
    "\\frac{1}{2} & \\text{ si } x=-1\\\\\n",
    "\\end{array}\\right.\n",
    "\\forall i\\geq 1$$\n",
    "\n",
    "On considère la suite $(Y_n)_{n \\in \\mathbb{N}}$, où $Y_0 = 0$ et \n",
    "$$Y_n=\\sum_{i=1}^{n}X_i$$\n"
   ]
  },
  {
   "cell_type": "markdown",
   "metadata": {},
   "source": [
    "1. Calculer l'espérance et la variance de $X_i$.\n",
    "2. En déduire l'espérance et la variance de $Y_n$.\n",
    "3. Montrer que $\\forall n \\in \\mathbb{N}$, $\\mathbb{P}_{Y_n|Y_{n-1} = y_{n-1}, \\ldots, Y_{0} = y_{0}} = \\mathbb{P}_{Y_n|Y_{n-1} = y_{n-1}}$. On dit que la suite $(Y_n)_{n \\in \\mathbb{N}}$ possède la propriété de Markov.\n",
    "4. Montrer que $\\mathrm{Cov}(Y_n,Y_{n'}) = \\min(n,n')$ puis que $\\frac12\\mathbb{E}\\left(Y_n-Y_{n+h}\\right)^2 = h/2$, pour $h>0$. Cette dernière quantité s'appelle le variogramme de $Y_n$ et peut s'interpréter comme une quantification de sa régularité.\n",
    "5. Utiliser le théorème central limite pour montrer que\n",
    "  $$\\frac{Y_n}{\\sqrt{n}}\\xrightarrow[n \\to \\infty]{\\mathcal{L}}\\mathcal{N}(0,1),$$\n"
   ]
  },
  {
   "cell_type": "markdown",
   "metadata": {},
   "source": [
    "1)\n",
    "$\\mathbb{E}\\left(X_{i}\\right) = \\frac{1}{2} \\cdot1+\\frac{1}{2}\\cdot(-1)=0$\n",
    "\n",
    "$\\mathbb{V}\\left(X_{i}\\right)=\\mathbb{E}\\left(\\left(x_{i}-\\mathbb{E}\\left(x_{i}\\right)\\right)^{2}\\right) =\\mathbb{E}\\left(x_{i}^{2}\\right)=\\frac{1}{2} \\cdot 1+\\frac{1}{2}\\cdot1 = 1$"
   ]
  },
  {
   "cell_type": "markdown",
   "metadata": {},
   "source": [
    "2)\n",
    "$\\mathbb{E}\\left(Y_{n}\\right) =\\sum_{i=1}^{n} \\mathbb{E}\\left(x_{i}\\right)=0$\n",
    "\n",
    "$\\mathbb{V}\\left(Y_{n}\\right) =\\sum_{i=1}^{n} \\mathbb{V}\\left(x_{i}\\right)=n$"
   ]
  },
  {
   "cell_type": "markdown",
   "metadata": {},
   "source": [
    "3)\n",
    "Si $n \\in \\mathbb{N}$, $Y_{n}=\\sum_{i=1}^{n} X_{i}=Y_{n-1}+X_{n}$\n",
    "\n",
    "$Y_{|Y_{n-1}}$ ne dépend que de $X_n$ et est donc indépendant des $X_1, \\ldots, X_{n-1}$ par indépendance des $X_{i}$\n",
    "\n",
    "Par le lemme des coalitions, $Y_{|Y_{n-1}}$ independent des $Y_1, \\ldots, Y_{n-2}$, et donc $\\mathbb{P}_{Y_{n}|Y_{n-1}=y_{n-1}, \\cdots, Y_{0}=y_{0}}=\\mathbb{P}_{Y_{n}|Y_{n-1}=y_{n-1}}$"
   ]
  },
  {
   "cell_type": "markdown",
   "metadata": {},
   "source": [
    "4)\n",
    "Soient  $n, n^{\\prime}\\in \\mathbb{N} \\quad n<n^{\\prime}$\n",
    "\n",
    "$\\operatorname{Cov}\\left(Y_{n}, Y_{n^{\\prime}}{ }\\right)=\\mathbb{E}\\left(\\left(Y_{n}-\\mathbb{E}\\left(Y_{n}\\right)\\right)\\left(Y_{n^{\\prime}}-\\mathbb{E}\\left(Y_{n^{\\prime}}\\right)\\right)\\right)$\n",
    "\n",
    "$=\\mathbb{E}\\left(Y_{n} Y_{n^{\\prime}}\\right)=\\mathbb{E}\\left(Y_{n} \\sum_{i=1}^{n^{\\prime}} X_{i}\\right)=\\mathbb{E}\\left(Y_{n}\\left(Y_{n}+\\sum_{i=n+1}^{n^{\\prime}} X_{i}\\right)\\right)$\n",
    "\n",
    "$=\\mathbb{E}\\left(Y_{n}{ }^{2}\\right)+\\mathbb{E}\\left(Y_{n} \\sum_{i=n+1}^{n^{\\prime}} X_{i}\\right)$\n",
    "\n",
    "$=\\mathbb{V}\\left(Y_{n}\\right)+\\mathbb{E}\\left(Y_{n}\\right) \\mathbb{E}\\left(\\sum_{i=n+1}^{n^{\\prime}}X_{i}\\right)$ car $Y_n$ indépendent des $(X_i)_{i>n+1}$ (par indépendance des $(X_i)$)\n",
    "\n",
    "$=n+0=n$\n",
    "\n",
    "Par symétrie de $n$ et $n^{\\prime}$, \n",
    "$$\\operatorname{Cov}\\left(Y_{n}, Y_{n}^{\\prime}\\right)=\\min \\left(n, n^{\\prime}\\right)$$\n",
    "\n",
    "On en déduit donc que\n",
    "\n",
    "$\\mathbb{E}\\left(\\left(Y_{n}-Y_{n+h}\\right)^{2}\\right)=\\mathbb{E}\\left(Y_{n}^{2}+Y_{n+h}^{2}-2 Y_{n} Y_{n+h}\\right)$\n",
    "\n",
    "$=\\mathbb{E}\\left(Y_{n}^{2}\\right)+\\mathbb{E}\\left(Y_{n+h}^{2}\\right)-2 \\mathbb{E}\\left(Y_{n} Y_{n+h}\\right)$\n",
    "\n",
    "$=\\mathbb{V}\\left(Y_{n}\\right)+\\mathbb{V}\\left(Y_{n+h}\\right)-2 \\operatorname{Cov}\\left(Y_{n}, Y_{n+h}\\right)$\n",
    "\n",
    "$=n+n+h-2n=h$\n",
    "\n",
    "Donc\n",
    "$$\\frac{1}{2} \\mathbb{E}\\left(\\left(Y_{n}-Y_{n+h}\\right)^{2}\\right)=h/2$$"
   ]
  },
  {
   "cell_type": "markdown",
   "metadata": {},
   "source": [
    "5)\n",
    "On applique le théorème central limite (TCL) :\n",
    "\n",
    "Les $X_i$ sont bien indépendants et identiquement distribués, leur espérance vaut $\\mu=0$ et leur variance $\\sigma^2=1$.\n",
    "\n",
    "Ainsi, $\\frac{Y_n-n\\mu}{\\sigma\\sqrt{n}}\\xrightarrow[n\\to+\\infty]{\\mathcal{L}}\\mathcal{N}(0,1)$\n",
    "\n",
    "Et donc,\n",
    "$$\\frac{Y_n}{\\sqrt{n}}\\xrightarrow[n\\to+\\infty]{\\mathcal{L}}\\mathcal{N}(0,1)$$"
   ]
  },
  {
   "cell_type": "code",
   "execution_count": 2,
   "metadata": {},
   "outputs": [
    {
     "name": "stdout",
     "output_type": "stream",
     "text": [
      "%pylab is deprecated, use %matplotlib inline and import the required libraries.\n",
      "Populating the interactive namespace from numpy and matplotlib\n"
     ]
    }
   ],
   "source": [
    "# chargement de dépendances\n",
    "%pylab inline\n",
    "import scipy.stats as sps"
   ]
  },
  {
   "cell_type": "code",
   "execution_count": 3,
   "metadata": {},
   "outputs": [],
   "source": [
    "# Initialisation de la graine\n",
    "np.random.seed(1234)"
   ]
  },
  {
   "cell_type": "markdown",
   "metadata": {},
   "source": [
    "# Comportement asymptotique\n",
    "\n",
    "On introduit maintenant $t_i=\\frac{i}{n}, i=0,\\ldots,n$ et\n",
    "$$Z^{(n)}_t= \\frac{Y_{[nt]}}{\\sqrt{n}}, t\\in[0,1],$$\n",
    "où $[\\cdot]$ est la partie entière.\n",
    "\n",
    "1. Montrer que $\\bigcup_{i=0}^{n-1}(t_i,t_{i+1}]$ forme une partition de $(0,1]$.\n",
    "\n",
    "2. Montrer que $Z^{(n)}_t=Z^{(n)}_{t_i}$ pour $i=[nt]$.\n",
    "\n",
    "3. Par conséquent, $Z^{(n)}_t, t\\in[0,1]$ est bien défini $\\forall t \\in [0,1]$. Implémenter un algorithme pour simuler $Z^{(n)}_t$ aux points $t_i,~ i \\in\\{0,\\ldots,n\\}$. Représenter une trajectoire pour $n$=1000.\n",
    "\n"
   ]
  },
  {
   "cell_type": "code",
   "execution_count": 4,
   "metadata": {},
   "outputs": [],
   "source": [
    "def print_Z(n):\n",
    "    # trace la liste des Z_ti(n) avec i entre 0 et n\n",
    "    L=[]\n",
    "    Y=0\n",
    "    for i in range(n+1):\n",
    "        x=np.random.random()\n",
    "        if x<0.5: # Xi=-1\n",
    "            Y-=1\n",
    "        else : #Xi=1\n",
    "            Y+=1\n",
    "        L.append(Y/n**0.5)\n",
    "    X=list(range(n+1))\n",
    "    plt.plot(X,L)\n",
    "    plt.show()"
   ]
  },
  {
   "cell_type": "code",
   "execution_count": 5,
   "metadata": {},
   "outputs": [
    {
     "data": {
      "image/png": "[encoded data removed]",
      "text/plain": [
       "<Figure size 432x288 with 1 Axes>"
      ]
     },
     "metadata": {
      "needs_background": "light"
     },
     "output_type": "display_data"
    }
   ],
   "source": [
    "print_Z(1000)\n"
   ]
  },
  {
   "cell_type": "markdown",
   "metadata": {},
   "source": [
    "4. Montrer que $Z^{(n)}_t\\xrightarrow[n \\to \\infty]{\\mathcal{L}}\\mathcal{N}(0,t),~\\forall t \\in [0,1]$, en déduire la loi de $Z^{(n)}_1=\\frac{Y_n}{\\sqrt{n}}$ quand $n$\n",
    "  tend vers l'infini.\n",
    "  Construire un échantillon de taille 1000 de valeurs de $Z^{(n)}_1$ pour n = 1000. Représenter son histogramme et le comparer avec la densité gaussienne standard.\n",
    "\n"
   ]
  },
  {
   "cell_type": "code",
   "execution_count": 6,
   "metadata": {},
   "outputs": [],
   "source": [
    "def Z1(n):\n",
    "    # renvoie une valeur de Z_1(n)\n",
    "    Y=0\n",
    "    for i in range(1,n+1):\n",
    "        x=np.random.random()\n",
    "        if x<0.5: # Xi=-1\n",
    "            Y-=1\n",
    "        else : #Xi=1\n",
    "            Y+=1\n",
    "    return Y/(n**0.5)\n",
    "\n",
    "def print_Z1(n,nb):\n",
    "    ## nb est la taille de l'échantillon\n",
    "    plt.hist([Z1(n) for i in range(nb)],50,density=True, label = \"Data\")\n",
    "    X=np.linspace(-4,4,n)\n",
    "    plt.plot(X,sps.norm.pdf(X),\"r\",label=\"Theory\")\n",
    "    plt.legend(loc=\"best\")\n",
    "    plt.show()"
   ]
  },
  {
   "cell_type": "code",
   "execution_count": 7,
   "metadata": {},
   "outputs": [
    {
     "data": {
      "image/png": "[encoded data removed]",
      "text/plain": [
       "<Figure size 432x288 with 1 Axes>"
      ]
     },
     "metadata": {
      "needs_background": "light"
     },
     "output_type": "display_data"
    }
   ],
   "source": [
    "n,nb=10000,1000\n",
    "print_Z1(n,nb)"
   ]
  },
  {
   "cell_type": "markdown",
   "metadata": {},
   "source": [
    "**Remarque**\n",
    "\n",
    "${\\bf Z}_t=\\lim_{n \\to \\infty} Z^{(n)}_t$ est le mouvement brownien standard sur $[0,1]$. \n"
   ]
  },
  {
   "cell_type": "markdown",
   "metadata": {},
   "source": [
    "# Une construction alternative\n",
    "\n",
    "On considère maintenant la construction suivante, définie pour tout $t \\in [0,1]$:\n",
    "$$\\tilde{Z}^{(n)}_t = \\frac{1}{\\sqrt{n}}\\sum_{i=1}^n X_i (1_{[0,U_i]}(t)-1_{]U_i,1]}(t))$$\n",
    "où les $X_i$ sont définis tels que précédemment et les $U_i$ sont des variables aléatoires i.i.d. de loi uniforme sur $[0,1]$.\n",
    "Cette construction permet de définir un algorithme alternatif de simulation d'une (approximation de) trajectoire brownienne, cette fois-ci non standard au sens où on n'a pas systématiquement $\\tilde{Z}^{(n)}_0 = 0$.\n",
    "\n",
    "1. Discrétiser l'intervalle $[0,1]$ en 1000 points de manière régulière et implémenter l'algorithme (commencer par n = 1). Représenter une trajectoire pour $n = 1000$."
   ]
  },
  {
   "cell_type": "code",
   "execution_count": 8,
   "metadata": {},
   "outputs": [],
   "source": [
    "def print_Z_bis(n):\n",
    "    # trace la liste des Z_ti_bis(n) avec i entre 0 et n\n",
    "    L=[]\n",
    "    Y=0\n",
    "    for i in range(n+1):\n",
    "        x=np.random.random()\n",
    "        u=np.random.random()\n",
    "        if x<0.5: # Xi=-1\n",
    "            X=1\n",
    "        else : #Xi=1\n",
    "            X=-1\n",
    "        if i/n<u:\n",
    "            Y+=X\n",
    "        else :\n",
    "            Y-=X\n",
    "        L.append(Y/n**0.5)\n",
    "    X=list(range(n+1))\n",
    "    plt.plot(X,L)\n",
    "    plt.show()"
   ]
  },
  {
   "cell_type": "code",
   "execution_count": 9,
   "metadata": {},
   "outputs": [
    {
     "data": {
      "image/png": "[encoded data removed]",
      "text/plain": [
       "<Figure size 432x288 with 1 Axes>"
      ]
     },
     "metadata": {
      "needs_background": "light"
     },
     "output_type": "display_data"
    }
   ],
   "source": [
    "print_Z_bis(1000)"
   ]
  },
  {
   "cell_type": "markdown",
   "metadata": {},
   "source": [
    "2. Calculer l'espérance et la variance de $\\tilde{Z}^{(n)}_t$. En déduire que $\\forall t \\in [0,1],~ \\tilde{Z}^{(n)}_t\\xrightarrow[n \\to \\infty]{\\mathcal{L}}\\mathcal{N}(0,1)$. Le vérifier expérimentalement aux points $\\{0,0.25,0.5,0.75,1\\}$ sur la base d'un échantillon de 1000 réalisations de $\\tilde{Z}^{(n)}$."
   ]
  },
  {
   "cell_type": "code",
   "execution_count": null,
   "metadata": {},
   "outputs": [],
   "source": []
  },
  {
   "cell_type": "markdown",
   "metadata": {},
   "source": [
    "3. Montrer que $\\frac12\\mathbb{E}\\left(\\tilde{Z}^{(n)}_t-\\tilde{Z}^{(n)}_{t+h}\\right)^2 = h$ pour $h>0$ et tel que $t+h \\leq 1$.\n",
    "\n",
    "4. Le vérifier expérimentalement en calculant $\\frac1{2\\text{card}\\{(i,j),|t_i-t_j|=h\\}}\\sum_{|t_i-t_j|=h}(\\tilde{Z}^{n}_{t_i} - \\tilde{Z}^{n}_{t_j})^2$, où $\\text{card}\\{(i,j),|t_i-t_j|=h\\}$ représente le nombre de couples $(t_i,t_j)$ distants de $h$, pour $h \\in \\{0.001,0.002,\\ldots,0.3\\}$. Représenter graphiquement cette quantité."
   ]
  },
  {
   "cell_type": "code",
   "execution_count": null,
   "metadata": {},
   "outputs": [],
   "source": []
  },
  {
   "cell_type": "markdown",
   "metadata": {},
   "source": [
    "5. Décrire les différences et les similarités entre les deux approches."
   ]
  },
  {
   "cell_type": "markdown",
   "metadata": {},
   "source": [
    "# Génération de texture\n",
    "\n",
    "L'algorithme précédent présente la propriété d'être aisément généralisable aux dimensions supérieures, contrairement au premier. Nous allons maintenant construire pas à pas un algorithme pour simuler selon ce modèle sur le domaine $[-1, 1]^2$. Comme dans le cas 1D, on va procéder par séparations aléatoires du domaine. Pour ce faire, nous allons simuler des droites aléatoires, avec la paramétrisation suivante :\n",
    "$$x \\cos(\\alpha) + y \\sin(\\alpha) = p,$$\n",
    "où $x,y \\in [0,1]$ sont les coordonnées, $\\alpha \\sim \\mathcal{U}_{[0,\\pi]}$ est la variable d'*orientation*, $p \\sim \\mathcal{U}_{[-\\sqrt{2},\\sqrt{2}]}$ est la variable de *position*.\n",
    "\n",
    "1. Représenter 10 droites aléatoires sur le domaine $[-1, 1]^2$."
   ]
  },
  {
   "cell_type": "code",
   "execution_count": null,
   "metadata": {},
   "outputs": [],
   "source": []
  },
  {
   "cell_type": "markdown",
   "metadata": {},
   "source": [
    "2. L'étape suivante consiste à attribuer une valeur +1 ou -1 à chaque partie du domaine, délimitées par une droite aléatoire. Générer une droite aléatoire, puis assigner une valeur aléatoire +1 ou -1 en tous points d'une grille régulière de discrétisation du domaine $[-1,1]^2$ de dimensions 200x200 (voir **np.meshgrid** et **plt.pcolormesh**)."
   ]
  },
  {
   "cell_type": "code",
   "execution_count": null,
   "metadata": {},
   "outputs": [],
   "source": []
  },
  {
   "cell_type": "markdown",
   "metadata": {},
   "source": [
    "3. Combiner les résultats des deux questions précédentes pour générer une réalisation de $\\tilde{Z}$ sur $[-1,1]^2$ pour $n = 100, 1000$ et $10000$ sur la même grille de discrétisation. Commenter. "
   ]
  },
  {
   "cell_type": "code",
   "execution_count": null,
   "metadata": {},
   "outputs": [],
   "source": []
  },
  {
   "cell_type": "markdown",
   "metadata": {},
   "source": [
    "4. Calculer $\\frac1{2\\text{card}\\{(i,j),|t_i-t_j|=h\\}}\\sum_{|t_i-t_j|=h}(\\tilde{Z}^{n}_{t_i} - \\tilde{Z}^{n}_{t_j})^2$ pour $h \\in \\{0.001,0.002,\\ldots,0.3\\}$ le long des axes verticaux et horizontaux. Tracer le graphique correspondant. Commenter."
   ]
  },
  {
   "cell_type": "code",
   "execution_count": null,
   "metadata": {},
   "outputs": [],
   "source": []
  },
  {
   "cell_type": "markdown",
   "metadata": {},
   "source": [
    "5. Générer une réalisation de $\\tilde{Z}$ sur $[-10,10]^2$. On prendra soin de modifier la loi des paramètres des droites aléatoires en conséquence. Commenter. "
   ]
  },
  {
   "cell_type": "code",
   "execution_count": null,
   "metadata": {},
   "outputs": [],
   "source": []
  },
  {
   "cell_type": "markdown",
   "metadata": {},
   "source": [
    "6. Une généralisation à deux dimensions d'une discrétisation du mouvement brownien standard peut être définie de la manière suivante : notant $(x_i,y_i)$ les coordonnées des points de la grille de discrétisation du domaine $[0,1]^2$, le vecteur formé des $Z_{(x_i,y_i)}$ est gaussien, centré et de covariance $\\text{Cov} = \\min(x_i,x_j) \\times \\min(y_i,y_j)$. Proposer et implémenter un algorithme de simulation de ce modèle sur une grille régulière de discrétisation du domaine $[0,1]^2$. Quelles difficultés rencontrez-vous ?"
   ]
  },
  {
   "cell_type": "code",
   "execution_count": null,
   "metadata": {},
   "outputs": [],
   "source": []
  }
 ],
 "metadata": {
  "@webio": {
   "lastCommId": "5ceb69a5bbd14071b254c2439a58ac4b",
   "lastKernelId": "0e923419-c540-42c1-ab5f-d0e05ff4521c"
  },
  "interpreter": {
   "hash": "f522921533d2649179f334ac53b5b066697b613ca03abe8a39e886b5049f2d92"
  },
  "kernelspec": {
   "display_name": "Python 3 (ipykernel)",
   "language": "python",
   "name": "python3"
  },
  "language_info": {
   "codemirror_mode": {
    "name": "ipython",
    "version": 3
   },
   "file_extension": ".py",
   "mimetype": "text/x-python",
   "name": "python",
   "nbconvert_exporter": "python",
   "pygments_lexer": "ipython3",
   "version": "3.9.5"
  }
 },
 "nbformat": 4,
 "nbformat_minor": 2
}
